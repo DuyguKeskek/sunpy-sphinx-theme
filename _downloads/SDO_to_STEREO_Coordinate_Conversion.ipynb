{
  "cells": [
    {
      "cell_type": "code",
      "execution_count": null,
      "metadata": {
        "collapsed": false
      },
      "outputs": [],
      "source": [
        "%matplotlib inline"
      ]
    },
    {
      "cell_type": "markdown",
      "metadata": {},
      "source": [
        "\n# AIA to STEREO Coordinate Conversion\n\n\nIn this example we demonstrate how you can identify a point or region on the\nsurface of the Sun in an AIA image and then convert that point to a point in a\nSTEREO image.\n\n"
      ]
    },
    {
      "cell_type": "code",
      "execution_count": null,
      "metadata": {
        "collapsed": false
      },
      "outputs": [],
      "source": [
        "from __future__ import print_function, division\n\nimport matplotlib.pyplot as plt\n\nimport astropy.units as u\nfrom astropy.coordinates import SkyCoord\n\nimport sunpy.map\nimport sunpy.coordinates\nimport sunpy.coordinates.wcs_utils\nfrom sunpy.net import Fido, attrs as a"
      ]
    },
    {
      "cell_type": "markdown",
      "metadata": {},
      "source": [
        "The first step is to download some data, we are going to get an image from\nearly 2011 when the STEREO spacecraft were roughly 90 deg seperated from the\nEarth.\n\n"
      ]
    },
    {
      "cell_type": "code",
      "execution_count": null,
      "metadata": {
        "collapsed": false
      },
      "outputs": [],
      "source": [
        "stereo = (a.vso.Source('STEREO_B') &\n          a.Instrument('EUVI') &\n          a.Time('2011-01-01', '2011-01-01T00:10:00'))\n\naia = (a.Instrument('AIA') &\n       a.vso.Sample(24 * u.hour) &\n       a.Time('2011-01-01', '2011-01-02'))\n\nwave = a.Wavelength(30 * u.nm, 31 * u.nm)\n\n\nres = Fido.search(wave, aia | stereo)"
      ]
    },
    {
      "cell_type": "markdown",
      "metadata": {},
      "source": [
        "The results from VSO query:\n\n"
      ]
    },
    {
      "cell_type": "code",
      "execution_count": null,
      "metadata": {
        "collapsed": false
      },
      "outputs": [],
      "source": [
        "print(res)"
      ]
    },
    {
      "cell_type": "markdown",
      "metadata": {},
      "source": [
        "Download the files:\n\n"
      ]
    },
    {
      "cell_type": "code",
      "execution_count": null,
      "metadata": {
        "collapsed": false
      },
      "outputs": [],
      "source": [
        "files = Fido.fetch(res)\nprint(files)"
      ]
    },
    {
      "cell_type": "markdown",
      "metadata": {},
      "source": [
        "Create a dictionary with the two maps, cropped down to full disk.\n\n"
      ]
    },
    {
      "cell_type": "code",
      "execution_count": null,
      "metadata": {
        "collapsed": false
      },
      "outputs": [],
      "source": [
        "maps = {m.detector: m.submap(SkyCoord([-1100, 1100]*u.arcsec,\n                                      [-1100, 1100]*u.arcsec,\n                                      frame=m.coordinate_frame))\n        for m in sunpy.map.Map(files)}"
      ]
    },
    {
      "cell_type": "markdown",
      "metadata": {},
      "source": [
        "Plot both maps\n\n"
      ]
    },
    {
      "cell_type": "code",
      "execution_count": null,
      "metadata": {
        "collapsed": false
      },
      "outputs": [],
      "source": [
        "fig = plt.figure(figsize=(10, 4))\nfor i, m in enumerate(maps.values()):\n    ax = fig.add_subplot(1, 2, i+1, projection=m.wcs)\n    m.plot(axes=ax)"
      ]
    },
    {
      "cell_type": "markdown",
      "metadata": {},
      "source": [
        "We are now going to pick out a region around the south west corner:\n\n"
      ]
    },
    {
      "cell_type": "code",
      "execution_count": null,
      "metadata": {
        "collapsed": false
      },
      "outputs": [],
      "source": [
        "aia_width = 200 * u.arcsec\naia_height = 250 * u.arcsec\naia_bottom_left = SkyCoord([[-800, -300]] * u.arcsec,\n                           frame=maps['AIA'].coordinate_frame)\naia_top_right = SkyCoord(aia_bottom_left.Tx + aia_width,\n                         aia_bottom_left.Ty + aia_height,\n                         frame=maps['AIA'].coordinate_frame)"
      ]
    },
    {
      "cell_type": "markdown",
      "metadata": {},
      "source": [
        "Plot a rectangle around the region we want to crop\n\n"
      ]
    },
    {
      "cell_type": "code",
      "execution_count": null,
      "metadata": {
        "collapsed": false
      },
      "outputs": [],
      "source": [
        "m = maps['AIA']\nfig = plt.figure()\nax = fig.add_subplot(111, projection=m)\nm.plot(axes=ax)\nm.draw_rectangle(aia_bottom_left, aia_width, aia_height)"
      ]
    },
    {
      "cell_type": "markdown",
      "metadata": {},
      "source": [
        "Create a submap of this area\n\n"
      ]
    },
    {
      "cell_type": "code",
      "execution_count": null,
      "metadata": {
        "collapsed": false
      },
      "outputs": [],
      "source": [
        "subaia = maps['AIA'].submap(aia_bottom_left, aia_top_right)\nsubaia.peek()"
      ]
    },
    {
      "cell_type": "markdown",
      "metadata": {},
      "source": [
        "We now want to crop out this same area on the STEREO EUVI image. First, we\ncreate a `SkyCoord` object with the four corners of the box. When we create\nthis object, we use `Map.coordinate_frame` so that the location parameters of\nSDO are correctly set.\n\n"
      ]
    },
    {
      "cell_type": "code",
      "execution_count": null,
      "metadata": {
        "collapsed": false
      },
      "outputs": [],
      "source": [
        "corners = ([aia_bottom_left.Tx, aia_bottom_left.Ty],\n           [aia_bottom_left.Tx + aia_width, aia_bottom_left.Ty],\n           [aia_bottom_left.Tx, aia_bottom_left.Ty + aia_height],\n           [aia_top_right.Tx, aia_top_right.Ty])\n\nhpc_aia = SkyCoord(corners, frame=maps['AIA'].coordinate_frame)\n\nprint(hpc_aia)"
      ]
    },
    {
      "cell_type": "markdown",
      "metadata": {},
      "source": [
        "We can now transform to from the AIA frame to the EUVI frame.\nThis transformation first transforms to Heliographic Stonyhurst coordinates\nand then into the EUVI frame.\n\n"
      ]
    },
    {
      "cell_type": "code",
      "execution_count": null,
      "metadata": {
        "collapsed": false
      },
      "outputs": [],
      "source": [
        "hpc_B = hpc_aia.transform_to(maps['EUVI'].coordinate_frame)\nprint(hpc_B)"
      ]
    },
    {
      "cell_type": "markdown",
      "metadata": {},
      "source": [
        "Now we can plot this box on both the AIA and EUVI images:\n\n"
      ]
    },
    {
      "cell_type": "code",
      "execution_count": null,
      "metadata": {
        "collapsed": false
      },
      "outputs": [],
      "source": [
        "fig = plt.figure(figsize=(10, 4))\nfor i, (m, coord) in enumerate(zip([maps['EUVI'], maps['AIA']],\n                                   [hpc_B, hpc_aia])):\n    ax = fig.add_subplot(1, 2, i+1, projection=m.wcs)\n    m.plot(axes=ax)\n\n    # coord[3] is the top-right corner coord[0] is the bottom-left corner.\n    w = (coord[3].Tx - coord[0].Tx)\n    h = (coord[3].Ty - coord[0].Ty)\n    m.draw_rectangle(coord[0], w, h,\n                     transform=ax.get_transform('world'))"
      ]
    },
    {
      "cell_type": "markdown",
      "metadata": {},
      "source": [
        "We can now zoom in on the region in the EUVI image:\n\n"
      ]
    },
    {
      "cell_type": "code",
      "execution_count": null,
      "metadata": {
        "collapsed": false
      },
      "outputs": [],
      "source": [
        "subeuvi = maps['EUVI'].submap(hpc_B[0], hpc_B[3])\nsubeuvi.peek()"
      ]
    },
    {
      "cell_type": "markdown",
      "metadata": {},
      "source": [
        "Putting them together:\n\n"
      ]
    },
    {
      "cell_type": "code",
      "execution_count": null,
      "metadata": {
        "collapsed": false
      },
      "outputs": [],
      "source": [
        "fig = plt.figure(figsize=(15, 5))\nfor i, m in enumerate((subeuvi, subaia)):\n    ax = fig.add_subplot(1, 2, i+1, projection=m.wcs)\n    m.plot(axes=ax)"
      ]
    }
  ],
  "metadata": {
    "kernelspec": {
      "display_name": "Python 3",
      "language": "python",
      "name": "python3"
    },
    "language_info": {
      "codemirror_mode": {
        "name": "ipython",
        "version": 3
      },
      "file_extension": ".py",
      "mimetype": "text/x-python",
      "name": "python",
      "nbconvert_exporter": "python",
      "pygments_lexer": "ipython3",
      "version": "3.6.2"
    }
  },
  "nbformat": 4,
  "nbformat_minor": 0
}