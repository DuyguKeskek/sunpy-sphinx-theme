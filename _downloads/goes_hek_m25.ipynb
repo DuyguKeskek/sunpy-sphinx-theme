{
  "cells": [
    {
      "cell_type": "code",
      "execution_count": null,
      "metadata": {
        "collapsed": false
      },
      "outputs": [],
      "source": [
        "%matplotlib inline"
      ]
    },
    {
      "cell_type": "markdown",
      "metadata": {},
      "source": [
        "\n# GOES Flare and HEK Plot Example\n\n\nAn example showing how to combine GOES and HEK data\n\n"
      ]
    },
    {
      "cell_type": "code",
      "execution_count": null,
      "metadata": {
        "collapsed": false
      },
      "outputs": [],
      "source": [
        "from __future__ import print_function, division\n\nimport matplotlib.pyplot as plt\n\nfrom sunpy.timeseries import TimeSeries\nfrom sunpy.time import TimeRange, parse_time\nfrom sunpy.net import hek, Fido, attrs as a"
      ]
    },
    {
      "cell_type": "markdown",
      "metadata": {},
      "source": [
        "Let's first grab GOES XRS data for a particular time of interest\n\n"
      ]
    },
    {
      "cell_type": "code",
      "execution_count": null,
      "metadata": {
        "collapsed": false
      },
      "outputs": [],
      "source": [
        "tr = TimeRange(['2011-06-07 04:00', '2011-06-07 12:00'])\nresults = Fido.search(a.Time(tr), a.Instrument('GOES'))\nresults"
      ]
    },
    {
      "cell_type": "markdown",
      "metadata": {},
      "source": [
        "Then download the data and load it into a TimeSeries\n\n"
      ]
    },
    {
      "cell_type": "code",
      "execution_count": null,
      "metadata": {
        "collapsed": false
      },
      "outputs": [],
      "source": [
        "files = Fido.fetch(results)\ngoes = TimeSeries(files)"
      ]
    },
    {
      "cell_type": "markdown",
      "metadata": {},
      "source": [
        "Next lets grab the HEK data for this time from the NOAA Space Weather\nPrediction Center (SWPC)\n\n"
      ]
    },
    {
      "cell_type": "code",
      "execution_count": null,
      "metadata": {
        "collapsed": false
      },
      "outputs": [],
      "source": [
        "client = hek.HEKClient()\nflares_hek = client.search(hek.attrs.Time(tr.start, tr.end),\n                           hek.attrs.FL, hek.attrs.FRM.Name == 'SWPC')"
      ]
    },
    {
      "cell_type": "markdown",
      "metadata": {},
      "source": [
        "Finally lets plot everything together\n\n"
      ]
    },
    {
      "cell_type": "code",
      "execution_count": null,
      "metadata": {
        "collapsed": false
      },
      "outputs": [],
      "source": [
        "goes.peek()\nplt.axvline(parse_time(flares_hek[0].get('event_peaktime')))\nplt.axvspan(parse_time(flares_hek[0].get('event_starttime')),\n            parse_time(flares_hek[0].get('event_endtime')),\n            alpha=0.2, label=flares_hek[0].get('fl_goescls'))\nplt.legend(loc=2)\nplt.show()"
      ]
    }
  ],
  "metadata": {
    "kernelspec": {
      "display_name": "Python 3",
      "language": "python",
      "name": "python3"
    },
    "language_info": {
      "codemirror_mode": {
        "name": "ipython",
        "version": 3
      },
      "file_extension": ".py",
      "mimetype": "text/x-python",
      "name": "python",
      "nbconvert_exporter": "python",
      "pygments_lexer": "ipython3",
      "version": "3.6.2"
    }
  },
  "nbformat": 4,
  "nbformat_minor": 0
}