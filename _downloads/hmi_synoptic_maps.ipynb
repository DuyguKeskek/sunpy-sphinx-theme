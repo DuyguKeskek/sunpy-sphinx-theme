{
  "cells": [
    {
      "cell_type": "code",
      "execution_count": null,
      "metadata": {
        "collapsed": false
      },
      "outputs": [],
      "source": [
        "%matplotlib inline"
      ]
    },
    {
      "cell_type": "markdown",
      "metadata": {},
      "source": [
        "\nHMI Daily Synoptic Map\n----------------------\n\nIn this example we load the Daily Synoptic Maps produced by the HMI team. This\ndata is an interesting demonstration of SunPy's Map class as it is not in the\nmore common Helioprojective coordinate system, it is in Heliographic Carrington\ncoordinates and in a non-trivial Cylindrical Equal Area projection.\n\nThis example plots the HMI Daily Synoptic Maps, the file used in this example\ncan be downloaded from\n`here <http://jsoc.stanford.edu/data/hmi/synoptic/hmi.Mldailysynframe_720s_nrt.fits>`_\n\n"
      ]
    },
    {
      "cell_type": "code",
      "execution_count": null,
      "metadata": {
        "collapsed": false
      },
      "outputs": [],
      "source": [
        "import numpy as np\nimport matplotlib.pyplot as plt\n\nfrom astropy.utils.data import download_file\n\nimport sunpy.map"
      ]
    },
    {
      "cell_type": "markdown",
      "metadata": {},
      "source": [
        "Use astropy to download the file to a temp location.\n\n"
      ]
    },
    {
      "cell_type": "code",
      "execution_count": null,
      "metadata": {
        "collapsed": false
      },
      "outputs": [],
      "source": [
        "filename = download_file(\n    'http://jsoc.stanford.edu/data/hmi/synoptic/hmi.Synoptic_Mr.2191.fits', cache=True)"
      ]
    },
    {
      "cell_type": "markdown",
      "metadata": {},
      "source": [
        "We read this file in as a Map.\n\n"
      ]
    },
    {
      "cell_type": "code",
      "execution_count": null,
      "metadata": {
        "collapsed": false
      },
      "outputs": [],
      "source": [
        "syn_map = sunpy.map.Map(filename)"
      ]
    },
    {
      "cell_type": "markdown",
      "metadata": {},
      "source": [
        "There are a couple of oddities with this file, firstly the value of 'CUNIT2':\n\n"
      ]
    },
    {
      "cell_type": "code",
      "execution_count": null,
      "metadata": {
        "collapsed": false
      },
      "outputs": [],
      "source": [
        "print(syn_map.meta['CUNIT2'])"
      ]
    },
    {
      "cell_type": "markdown",
      "metadata": {},
      "source": [
        "That is not a unit! What this is telling us is that the latitude coordinate\nis actually the sine of latitude. According to the Thompson (2006) paper,\nCUNIT2 should be in degrees and CDELT2 should be multiplied by 180/pi. Also\nthe value of CDELT1 has the wrong sign.\n\n"
      ]
    },
    {
      "cell_type": "code",
      "execution_count": null,
      "metadata": {
        "collapsed": false
      },
      "outputs": [],
      "source": [
        "syn_map.meta['CUNIT2'] = 'degree'\nsyn_map.meta['CDELT2'] = 180 / np.pi * syn_map.meta['CDELT2']\nsyn_map.meta['CDELT1'] *= -1"
      ]
    },
    {
      "cell_type": "markdown",
      "metadata": {},
      "source": [
        "Now we create a SunPy Map from the data and header:\n\n"
      ]
    },
    {
      "cell_type": "code",
      "execution_count": null,
      "metadata": {
        "collapsed": false
      },
      "outputs": [],
      "source": [
        "# Set the colorbar properties.\nsyn_map.plot_settings['cmap'] = 'hmimag'\nsyn_map.plot_settings['norm'] = plt.Normalize(-1500, 1500)"
      ]
    },
    {
      "cell_type": "markdown",
      "metadata": {},
      "source": [
        "Create a figure with the Map's projection:\n\n"
      ]
    },
    {
      "cell_type": "code",
      "execution_count": null,
      "metadata": {
        "collapsed": false
      },
      "outputs": [],
      "source": [
        "fig = plt.figure(figsize=(12, 5))\naxes = plt.subplot(projection=syn_map)\n\n# Plot the image\nim = syn_map.plot()\n\n# Set up the Sine Latitude Grid\nx = axes.coords[0]\ny = axes.coords[1]\n\nx.set_coord_type('longitude', coord_wrap=360.)\ny.set_coord_type('latitude')\n\nx.set_major_formatter('dd')\ny.set_major_formatter('dd')\n\nx.set_axislabel(\"Carrington Longitude [deg]\")\ny.set_axislabel(\"Latitude [deg]\")\n\nx.set_ticks(color='black', exclude_overlapping=True)\ny.set_ticks(color='black', exclude_overlapping=True)\n\n# Hide the grid\naxes.coords.grid(color='black', alpha=0.6, linestyle='dotted', linewidth=0.5)\n\n# Create a colorbar\ncb = plt.colorbar(im, fraction=0.019, pad=0.1)\ncb.set_label(\"LOS Magnetic Field [Gauss]\")\n\n# Another horrible hack to make the ticks draw on the RHS\naxes.set_ylim((1, syn_map.data.shape[0] - 1))\n\nplt.title(\"{} {}-{}\".format(syn_map.meta['content'], syn_map.meta['CAR_ROT'],\n                            syn_map.meta['CAR_ROT'] + 1))\n\nplt.show()"
      ]
    }
  ],
  "metadata": {
    "kernelspec": {
      "display_name": "Python 3",
      "language": "python",
      "name": "python3"
    },
    "language_info": {
      "codemirror_mode": {
        "name": "ipython",
        "version": 3
      },
      "file_extension": ".py",
      "mimetype": "text/x-python",
      "name": "python",
      "nbconvert_exporter": "python",
      "pygments_lexer": "ipython3",
      "version": "3.6.2"
    }
  },
  "nbformat": 4,
  "nbformat_minor": 0
}