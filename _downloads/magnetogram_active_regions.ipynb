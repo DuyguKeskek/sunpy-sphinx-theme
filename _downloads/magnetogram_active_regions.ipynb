{
  "cells": [
    {
      "cell_type": "code",
      "execution_count": null,
      "metadata": {
        "collapsed": false
      },
      "outputs": [],
      "source": [
        "%matplotlib inline"
      ]
    },
    {
      "cell_type": "markdown",
      "metadata": {},
      "source": [
        "\n# Overplotting Active Region locations on magnetogram Plots\n\n\nThis example shows how to overplot Active Region location on magnetogram plots.\n\n"
      ]
    },
    {
      "cell_type": "markdown",
      "metadata": {},
      "source": [
        "Start by importing the necessary modules.\n\n"
      ]
    },
    {
      "cell_type": "code",
      "execution_count": null,
      "metadata": {
        "collapsed": false
      },
      "outputs": [],
      "source": [
        "from __future__ import print_function, division\n\nimport datetime\n\nimport numpy as np\nimport matplotlib.pyplot as plt\n\nfrom astropy import units as u\nfrom astropy.coordinates import SkyCoord\n\nimport sunpy.map\nimport sunpy.coordinates\nfrom sunpy.io.special import srs\nfrom sunpy.time import parse_time\nfrom sunpy.net import Fido, attrs as a"
      ]
    },
    {
      "cell_type": "markdown",
      "metadata": {},
      "source": [
        "Let's select a date (yyyy-mm-dd) for which we will be downloading files.\n\n"
      ]
    },
    {
      "cell_type": "code",
      "execution_count": null,
      "metadata": {
        "collapsed": false
      },
      "outputs": [],
      "source": [
        "day = parse_time(\"2017-01-25\")"
      ]
    },
    {
      "cell_type": "markdown",
      "metadata": {},
      "source": [
        "We will select the entire day as our timerange.\n\n"
      ]
    },
    {
      "cell_type": "code",
      "execution_count": null,
      "metadata": {
        "collapsed": false
      },
      "outputs": [],
      "source": [
        "start_time = day\nend_time = day + datetime.timedelta(hours=23, minutes=59, seconds=59)"
      ]
    },
    {
      "cell_type": "markdown",
      "metadata": {},
      "source": [
        "Send the search query.\n\n"
      ]
    },
    {
      "cell_type": "code",
      "execution_count": null,
      "metadata": {
        "collapsed": false
      },
      "outputs": [],
      "source": [
        "results = Fido.search(a.Time(start_time, end_time),\n                      a.Instrument('HMI') & a.vso.Physobs(\"LOS_magnetic_field\"),\n                      a.vso.Sample(60 * u.second))"
      ]
    },
    {
      "cell_type": "markdown",
      "metadata": {},
      "source": [
        "We will only download the first file for the day. For that we use fido\nindexing on the search results which will return the first file for the day.\n\n"
      ]
    },
    {
      "cell_type": "code",
      "execution_count": null,
      "metadata": {
        "collapsed": false
      },
      "outputs": [],
      "source": [
        "result = results[0, 0]"
      ]
    },
    {
      "cell_type": "markdown",
      "metadata": {},
      "source": [
        "Download the file. The `fetch` method returns a list of filenames. As we\nused indexing to get the first file of the day, the list contains one\nfilename.\n\n"
      ]
    },
    {
      "cell_type": "code",
      "execution_count": null,
      "metadata": {
        "collapsed": false
      },
      "outputs": [],
      "source": [
        "file_name = Fido.fetch(result)"
      ]
    },
    {
      "cell_type": "markdown",
      "metadata": {},
      "source": [
        "Download the SRS file.\n\n"
      ]
    },
    {
      "cell_type": "code",
      "execution_count": null,
      "metadata": {
        "collapsed": false
      },
      "outputs": [],
      "source": [
        "srs_results = Fido.search(a.Time(start_time, end_time), a.Instrument('SRS_TABLE'))\nsrs_downloaded_files = Fido.fetch(srs_results)"
      ]
    },
    {
      "cell_type": "markdown",
      "metadata": {},
      "source": [
        "We get one SRS file per day. To read this file, we pass the filename into\nthe SRS reader. So now `srs_table` contains an astropy table.\n\n"
      ]
    },
    {
      "cell_type": "code",
      "execution_count": null,
      "metadata": {
        "collapsed": false
      },
      "outputs": [],
      "source": [
        "srs_table = srs.read_srs(srs_downloaded_files[0])\nprint(srs_table)"
      ]
    },
    {
      "cell_type": "markdown",
      "metadata": {},
      "source": [
        "We only need the rows which have 'ID' = 'I' or 'IA'.\n\n"
      ]
    },
    {
      "cell_type": "code",
      "execution_count": null,
      "metadata": {
        "collapsed": false
      },
      "outputs": [],
      "source": [
        "if 'I' in srs_table['ID'] or 'IA' in srs_table['ID']:\n    srs_table = srs_table[np.logical_or(srs_table['ID'] == 'I',\n                                        srs_table['ID'] == 'IA')]\nelse:\n    print(\"Warning : No I or IA entries for this date.\")\n    srs_table = None"
      ]
    },
    {
      "cell_type": "markdown",
      "metadata": {},
      "source": [
        "Now we extract the latitudes, longitudes and the region numbers. We make an\nempty list if there are no ARs.\n\n"
      ]
    },
    {
      "cell_type": "code",
      "execution_count": null,
      "metadata": {
        "collapsed": false
      },
      "outputs": [],
      "source": [
        "if srs_table is not None:\n    lats = srs_table['Latitude']\n    lngs = srs_table['Longitude']\n    numbers = srs_table['Number']\nelse:\n    lats = lngs = numbers = []"
      ]
    },
    {
      "cell_type": "markdown",
      "metadata": {},
      "source": [
        "Now to make the plot.\nCreate the magnetogram plot using the FITS file.\n\n"
      ]
    },
    {
      "cell_type": "code",
      "execution_count": null,
      "metadata": {
        "collapsed": false
      },
      "outputs": [],
      "source": [
        "smap = sunpy.map.Map(file_name)\n\nax = plt.subplot(projection=smap)\n\nsmap.plot(vmin=-120, vmax=120)\n\nsmap.draw_limb()\n\nax.set_autoscale_on(False)"
      ]
    },
    {
      "cell_type": "markdown",
      "metadata": {},
      "source": [
        "We make a SkyCoord object and plot the active points on the map.\nAdd the numbers as labels for each point.\n\n"
      ]
    },
    {
      "cell_type": "code",
      "execution_count": null,
      "metadata": {
        "collapsed": false
      },
      "outputs": [],
      "source": [
        "if len(lats) > 0:\n    c = SkyCoord(lngs, lats, frame=\"heliographic_stonyhurst\")\n    ax.plot_coord(c, 'o')\n\n    for i, num in enumerate(numbers):\n        ax.annotate(num, (lngs[i].value, lats[i].value),\n                    xycoords=ax.get_transform('heliographic_stonyhurst'))"
      ]
    },
    {
      "cell_type": "markdown",
      "metadata": {},
      "source": [
        "Now we display the combined plot.\n\n"
      ]
    },
    {
      "cell_type": "code",
      "execution_count": null,
      "metadata": {
        "collapsed": false
      },
      "outputs": [],
      "source": [
        "plt.show()"
      ]
    }
  ],
  "metadata": {
    "kernelspec": {
      "display_name": "Python 3",
      "language": "python",
      "name": "python3"
    },
    "language_info": {
      "codemirror_mode": {
        "name": "ipython",
        "version": 3
      },
      "file_extension": ".py",
      "mimetype": "text/x-python",
      "name": "python",
      "nbconvert_exporter": "python",
      "pygments_lexer": "ipython3",
      "version": "3.6.2"
    }
  },
  "nbformat": 4,
  "nbformat_minor": 0
}