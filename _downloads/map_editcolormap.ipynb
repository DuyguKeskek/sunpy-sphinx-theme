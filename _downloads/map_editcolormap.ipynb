{
  "cells": [
    {
      "cell_type": "code",
      "execution_count": null,
      "metadata": {
        "collapsed": false
      },
      "outputs": [],
      "source": [
        "%matplotlib inline"
      ]
    },
    {
      "cell_type": "markdown",
      "metadata": {},
      "source": [
        "\n# Editing Map Colormaps and Normalization\n\n\nA simple example to show how to edit the display of a map\n\n"
      ]
    },
    {
      "cell_type": "code",
      "execution_count": null,
      "metadata": {
        "collapsed": false
      },
      "outputs": [],
      "source": [
        "from __future__ import print_function, division\n\nimport matplotlib.cm as cm\nimport matplotlib.pyplot as plt\nimport matplotlib.colors as colors\n\nimport sunpy.map\nfrom sunpy.data.sample import AIA_171_IMAGE"
      ]
    },
    {
      "cell_type": "markdown",
      "metadata": {},
      "source": [
        "We first create the Map using the sample data.\n\n"
      ]
    },
    {
      "cell_type": "code",
      "execution_count": null,
      "metadata": {
        "collapsed": false
      },
      "outputs": [],
      "source": [
        "aiamap = sunpy.map.Map(AIA_171_IMAGE)"
      ]
    },
    {
      "cell_type": "markdown",
      "metadata": {},
      "source": [
        "Now lets replace the colormap which sets the colors as well as the\nnormalization which sets how data values are translated to colors\n\n"
      ]
    },
    {
      "cell_type": "code",
      "execution_count": null,
      "metadata": {
        "collapsed": false
      },
      "outputs": [],
      "source": [
        "aiamap.plot_settings['cmap'] = cm.get_cmap('Greys_r')\naiamap.plot_settings['norm'] = colors.LogNorm(100, aiamap.max())"
      ]
    },
    {
      "cell_type": "markdown",
      "metadata": {},
      "source": [
        "You can find more colormaps in matplotlib\n(http://matplotlib.org/examples/color/colormaps_reference.html) or look at\nthe sunpy colormaps in `sunpy.cm` For more normalizations check out\n`matplotlib.colors.Normalize` or astropy provides additional norms in\n`astropy.visualization`\n\n"
      ]
    },
    {
      "cell_type": "code",
      "execution_count": null,
      "metadata": {
        "collapsed": false
      },
      "outputs": [],
      "source": [
        "aiamap.plot()\nplt.colorbar()\nplt.show()"
      ]
    }
  ],
  "metadata": {
    "kernelspec": {
      "display_name": "Python 3",
      "language": "python",
      "name": "python3"
    },
    "language_info": {
      "codemirror_mode": {
        "name": "ipython",
        "version": 3
      },
      "file_extension": ".py",
      "mimetype": "text/x-python",
      "name": "python",
      "nbconvert_exporter": "python",
      "pygments_lexer": "ipython3",
      "version": "3.6.2"
    }
  },
  "nbformat": 4,
  "nbformat_minor": 0
}