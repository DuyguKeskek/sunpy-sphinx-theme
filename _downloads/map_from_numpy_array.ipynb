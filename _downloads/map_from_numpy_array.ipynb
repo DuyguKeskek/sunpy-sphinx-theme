{
  "cells": [
    {
      "cell_type": "code",
      "execution_count": null,
      "metadata": {
        "collapsed": false
      },
      "outputs": [],
      "source": [
        "%matplotlib inline"
      ]
    },
    {
      "cell_type": "markdown",
      "metadata": {},
      "source": [
        "\n# Generating a Map From Data\n\n\nA simple demonstration of creating a map from a numpy array of data.\n\n"
      ]
    },
    {
      "cell_type": "markdown",
      "metadata": {},
      "source": [
        "Start by importing the necessary modules.\n\n"
      ]
    },
    {
      "cell_type": "code",
      "execution_count": null,
      "metadata": {
        "collapsed": false
      },
      "outputs": [],
      "source": [
        "from __future__ import print_function, division\n\nimport numpy as np\nimport matplotlib.pyplot as plt\n\nimport sunpy.map\nimport sunpy.data.sample"
      ]
    },
    {
      "cell_type": "markdown",
      "metadata": {},
      "source": [
        "SunPy Maps store 2D data in a numpy array and additional data in a metadata\ndictionary giving information relating to the data and instrument.\n\n"
      ]
    },
    {
      "cell_type": "code",
      "execution_count": null,
      "metadata": {
        "collapsed": false
      },
      "outputs": [],
      "source": [
        "data = np.random.rand(20,15)\nheader = {}\nmanual_map = sunpy.map.Map((data, header))"
      ]
    },
    {
      "cell_type": "markdown",
      "metadata": {},
      "source": [
        "In general the attributes are populated using details in the metadata and in\nthis case there is no centre pixel or pixel size information given so SunPy\nis defaulting to assuming each pixel is 1 arcsec.\n\n"
      ]
    },
    {
      "cell_type": "code",
      "execution_count": null,
      "metadata": {
        "collapsed": false
      },
      "outputs": [],
      "source": [
        "print(manual_map.xrange)\nprint(manual_map.yrange)\n# This is in Helioprojective tangent projection in both longitude and latitude:\nprint(manual_map.coordinate_system)"
      ]
    },
    {
      "cell_type": "markdown",
      "metadata": {},
      "source": [
        "You can quickly plot a map using the peek method:\n\n"
      ]
    },
    {
      "cell_type": "code",
      "execution_count": null,
      "metadata": {
        "collapsed": false
      },
      "outputs": [],
      "source": [
        "manual_map.peek()\nplt.show()"
      ]
    }
  ],
  "metadata": {
    "kernelspec": {
      "display_name": "Python 3",
      "language": "python",
      "name": "python3"
    },
    "language_info": {
      "codemirror_mode": {
        "name": "ipython",
        "version": 3
      },
      "file_extension": ".py",
      "mimetype": "text/x-python",
      "name": "python",
      "nbconvert_exporter": "python",
      "pygments_lexer": "ipython3",
      "version": "3.6.2"
    }
  },
  "nbformat": 4,
  "nbformat_minor": 0
}