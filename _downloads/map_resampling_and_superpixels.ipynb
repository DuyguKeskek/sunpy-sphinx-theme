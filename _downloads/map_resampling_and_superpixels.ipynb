{
  "cells": [
    {
      "cell_type": "code",
      "execution_count": null,
      "metadata": {
        "collapsed": false
      },
      "outputs": [],
      "source": [
        "%matplotlib inline"
      ]
    },
    {
      "cell_type": "markdown",
      "metadata": {},
      "source": [
        "\n# Map Resampling and Superpixels\n\n\nIn this example you will see how to resample a map using the resample method\n(which implements interpolation) and superpixels.\n\n"
      ]
    },
    {
      "cell_type": "markdown",
      "metadata": {},
      "source": [
        "Start by importing the necessary modules.\n\n"
      ]
    },
    {
      "cell_type": "code",
      "execution_count": null,
      "metadata": {
        "collapsed": false
      },
      "outputs": [],
      "source": [
        "from __future__ import print_function, division\n\nimport astropy.units as u\n\nimport matplotlib.pyplot as plt\n\nimport sunpy.map\nimport sunpy.data.sample"
      ]
    },
    {
      "cell_type": "markdown",
      "metadata": {},
      "source": [
        "Sunpy sample data contains a number of suitable maps, where the sunpy.data.sample.NAME\nreturns the location of the given FITS file.\n\n"
      ]
    },
    {
      "cell_type": "code",
      "execution_count": null,
      "metadata": {
        "collapsed": false
      },
      "outputs": [],
      "source": [
        "aia_map = sunpy.map.Map(sunpy.data.sample.AIA_171_IMAGE)"
      ]
    },
    {
      "cell_type": "markdown",
      "metadata": {},
      "source": [
        "This has a resolution of:\n\n"
      ]
    },
    {
      "cell_type": "code",
      "execution_count": null,
      "metadata": {
        "collapsed": false
      },
      "outputs": [],
      "source": [
        "print(aia_map.dimensions)"
      ]
    },
    {
      "cell_type": "markdown",
      "metadata": {},
      "source": [
        "To find out more specifics about this map and the instrument used, check it's\nmetatdata:\n\n"
      ]
    },
    {
      "cell_type": "code",
      "execution_count": null,
      "metadata": {
        "collapsed": false
      },
      "outputs": [],
      "source": [
        "print(aia_map.meta)"
      ]
    },
    {
      "cell_type": "markdown",
      "metadata": {},
      "source": [
        "To reduce the angular resolution of the map you can use the `~sunpy.map.GenericMap.resample` method,\nspecifying the dimensions as an Astropy Quantity in pixels:\n\n"
      ]
    },
    {
      "cell_type": "code",
      "execution_count": null,
      "metadata": {
        "collapsed": false
      },
      "outputs": [],
      "source": [
        "dimensions = u.Quantity([40, 40], u.pixel)\naia_resampled_map = aia_map.resample(dimensions)\naia_resampled_map.peek(draw_limb=True, draw_grid=True)\n# Note that this uses linear interpolation, you can change this using the method\n# (\u2018neighbor\u2019, \u2018nearest\u2019, \u2018linear\u2019 or \u2018spline\u2019) keyword argument option."
      ]
    },
    {
      "cell_type": "markdown",
      "metadata": {},
      "source": [
        "Similar to resampling you can use the `~sunpy.map.GenericMap.superpixel` method, this will reduce the\nresolution of the image by combining the number of pixels (in each dimension)\nin the dimensions argument into one single pixel.\nThis can be used to increase the signal to noise ratio.\nFor this the new dimensions must divide original image size exactly, for\nexample you can reduce the AIA map resolution by a factor of 16 using:\n\n"
      ]
    },
    {
      "cell_type": "code",
      "execution_count": null,
      "metadata": {
        "collapsed": false
      },
      "outputs": [],
      "source": [
        "dimensions = u.Quantity(aia_map.dimensions) / 16\naia_superpixel_map = aia_map.superpixel(dimensions)\naia_superpixel_map.peek(draw_limb=True, draw_grid=True)\nplt.show()"
      ]
    }
  ],
  "metadata": {
    "kernelspec": {
      "display_name": "Python 3",
      "language": "python",
      "name": "python3"
    },
    "language_info": {
      "codemirror_mode": {
        "name": "ipython",
        "version": 3
      },
      "file_extension": ".py",
      "mimetype": "text/x-python",
      "name": "python",
      "nbconvert_exporter": "python",
      "pygments_lexer": "ipython3",
      "version": "3.6.2"
    }
  },
  "nbformat": 4,
  "nbformat_minor": 0
}