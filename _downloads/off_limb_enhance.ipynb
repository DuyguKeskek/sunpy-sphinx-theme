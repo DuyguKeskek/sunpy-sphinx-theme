{
  "cells": [
    {
      "cell_type": "code",
      "execution_count": null,
      "metadata": {
        "collapsed": false
      },
      "outputs": [],
      "source": [
        "%matplotlib inline"
      ]
    },
    {
      "cell_type": "markdown",
      "metadata": {},
      "source": [
        "\n# Enhancing Off-limb emission\n\n\nThis example shows how to enhance emission above the limb.\n\n"
      ]
    },
    {
      "cell_type": "code",
      "execution_count": null,
      "metadata": {
        "collapsed": false
      },
      "outputs": [],
      "source": [
        "from __future__ import print_function, division\n\nimport numpy as np\n\nimport matplotlib.pyplot as plt\nimport matplotlib.colors as colors\n\nimport astropy.units as u\n\nimport sunpy.map\nfrom sunpy.data.sample import AIA_171_IMAGE"
      ]
    },
    {
      "cell_type": "markdown",
      "metadata": {},
      "source": [
        "We first create the Map using the sample data.\n\n"
      ]
    },
    {
      "cell_type": "code",
      "execution_count": null,
      "metadata": {
        "collapsed": false
      },
      "outputs": [],
      "source": [
        "aia = sunpy.map.Map(AIA_171_IMAGE)"
      ]
    },
    {
      "cell_type": "markdown",
      "metadata": {},
      "source": [
        "Next we build two arrays which include all of the x and y pixel indices.\nWe must not forget to add the correct units because we will next pass this\ninto a function which requires them.\n\n"
      ]
    },
    {
      "cell_type": "code",
      "execution_count": null,
      "metadata": {
        "collapsed": false
      },
      "outputs": [],
      "source": [
        "x, y = np.meshgrid(*[np.arange(v.value) for v in aia.dimensions]) * u.pix"
      ]
    },
    {
      "cell_type": "markdown",
      "metadata": {},
      "source": [
        "Now we can convert this to helioprojective coordinates and create a new\narray which contains the normalized radial position for each pixel\n\n"
      ]
    },
    {
      "cell_type": "code",
      "execution_count": null,
      "metadata": {
        "collapsed": false
      },
      "outputs": [],
      "source": [
        "hpc_coords = aia.pixel_to_data(x, y)\nr = np.sqrt(hpc_coords.Tx ** 2 + hpc_coords.Ty ** 2) / aia.rsun_obs"
      ]
    },
    {
      "cell_type": "markdown",
      "metadata": {},
      "source": [
        "Let's check how emission above the limb depends on distance\n\n"
      ]
    },
    {
      "cell_type": "code",
      "execution_count": null,
      "metadata": {
        "collapsed": false
      },
      "outputs": [],
      "source": [
        "rsun_step_size = 0.01\nrsun_array = np.arange(1, r.max(), rsun_step_size)\ny = np.array([aia.data[(r > this_r) * (r < this_r + rsun_step_size)].mean()\n              for this_r in rsun_array])"
      ]
    },
    {
      "cell_type": "markdown",
      "metadata": {},
      "source": [
        "Next let's plot it along with a fit to the data. We perform the fit in\nlog-linear space.\n\n"
      ]
    },
    {
      "cell_type": "code",
      "execution_count": null,
      "metadata": {
        "collapsed": false
      },
      "outputs": [],
      "source": [
        "params = np.polyfit(rsun_array[rsun_array < 1.5],\n                    np.log10(y[rsun_array < 1.5]), 1)\n\nplt.plot(rsun_array, y, label='data')\nlabel = r'fit=Ax^{:.2f}'.format(params[0])\nplt.plot(rsun_array, 10**np.poly1d(params)(rsun_array), label=label)\nplt.yscale('log')\nplt.ylabel('mean DN')\nplt.xlabel('Rsun')\nplt.legend()\nplt.show()"
      ]
    },
    {
      "cell_type": "markdown",
      "metadata": {},
      "source": [
        "We now create our scaling array which we will multiply our original data by 5\nIn order to not affect the emission on the disk, we set the scale factor to\nunity for values of r below 1.\n\n"
      ]
    },
    {
      "cell_type": "code",
      "execution_count": null,
      "metadata": {
        "collapsed": false
      },
      "outputs": [],
      "source": [
        "scale_exponent = 5\nscale_factor = r ** scale_exponent\nscale_factor[r < 1] = 1"
      ]
    },
    {
      "cell_type": "markdown",
      "metadata": {},
      "source": [
        "Let's now plot and compare the results.\n\n"
      ]
    },
    {
      "cell_type": "code",
      "execution_count": null,
      "metadata": {
        "collapsed": false
      },
      "outputs": [],
      "source": [
        "scaled_map = sunpy.map.Map(aia.data * scale_factor, aia.meta)\nnorm = colors.Normalize(vmin=10, vmax=10000)\n\nfig = plt.figure(figsize=(12, 5))\nax = fig.add_subplot(121, projection=aia)\naia.plot()\naia.draw_limb()\nax = fig.add_subplot(122, projection=aia)\nscaled_map.plot()\nscaled_map.draw_limb()\nplt.show()"
      ]
    }
  ],
  "metadata": {
    "kernelspec": {
      "display_name": "Python 3",
      "language": "python",
      "name": "python3"
    },
    "language_info": {
      "codemirror_mode": {
        "name": "ipython",
        "version": 3
      },
      "file_extension": ".py",
      "mimetype": "text/x-python",
      "name": "python",
      "nbconvert_exporter": "python",
      "pygments_lexer": "ipython3",
      "version": "3.6.2"
    }
  },
  "nbformat": 4,
  "nbformat_minor": 0
}