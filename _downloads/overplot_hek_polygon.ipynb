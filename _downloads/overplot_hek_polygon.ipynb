{
  "cells": [
    {
      "cell_type": "code",
      "execution_count": null,
      "metadata": {
        "collapsed": false
      },
      "outputs": [],
      "source": [
        "%matplotlib inline"
      ]
    },
    {
      "cell_type": "markdown",
      "metadata": {},
      "source": [
        "\n=====================================================\nOverplotting HEK feature/event polygons on SunPy maps\n=====================================================\n\nThis example shows how to overplot HEK outlines on SunPy maps.\n\n"
      ]
    },
    {
      "cell_type": "markdown",
      "metadata": {},
      "source": [
        "Start by importing the necessary modules.\n\n"
      ]
    },
    {
      "cell_type": "code",
      "execution_count": null,
      "metadata": {
        "collapsed": false
      },
      "outputs": [],
      "source": [
        "from __future__ import print_function, division\n\nfrom datetime import timedelta\nimport numpy as np\n\nimport matplotlib.pyplot as plt\n\nimport astropy.units as u\nfrom astropy.coordinates import SkyCoord\n\nimport sunpy.map\nimport sunpy.data.sample\nfrom sunpy.net import hek\nfrom sunpy.time import parse_time\nfrom sunpy.coordinates import frames\nfrom sunpy.physics.differential_rotation import solar_rotate_coordinate"
      ]
    },
    {
      "cell_type": "markdown",
      "metadata": {},
      "source": [
        "Load in an AIA map:\n\n"
      ]
    },
    {
      "cell_type": "code",
      "execution_count": null,
      "metadata": {
        "collapsed": false
      },
      "outputs": [],
      "source": [
        "aia_map = sunpy.map.Map(sunpy.data.sample.AIA_171_IMAGE)"
      ]
    },
    {
      "cell_type": "markdown",
      "metadata": {},
      "source": [
        "Let's look for sunspots in the HEK close to the time of the AIA map. First\ncreate a client:\n\n"
      ]
    },
    {
      "cell_type": "code",
      "execution_count": null,
      "metadata": {
        "collapsed": false
      },
      "outputs": [],
      "source": [
        "hek_client = hek.HEKClient()"
      ]
    },
    {
      "cell_type": "markdown",
      "metadata": {},
      "source": [
        "Look for coronal holes detected using the SPoCA feature recognition method:\n\n"
      ]
    },
    {
      "cell_type": "code",
      "execution_count": null,
      "metadata": {
        "collapsed": false
      },
      "outputs": [],
      "source": [
        "start_time = aia_map.date - timedelta(hours=2)\nend_time = aia_map.date + timedelta(hours=2)\nresponses = hek_client.search(hek.attrs.Time(start_time, end_time),\n                              hek.attrs.CH, hek.attrs.FRM.Name == 'SPoCA')"
      ]
    },
    {
      "cell_type": "markdown",
      "metadata": {},
      "source": [
        "Let's find the biggest coronal hole within 80 degrees north/south of the\nequator:\n\n"
      ]
    },
    {
      "cell_type": "code",
      "execution_count": null,
      "metadata": {
        "collapsed": false
      },
      "outputs": [],
      "source": [
        "area = 0.0\nfor i, response in enumerate(responses):\n    if response['area_atdiskcenter'] > area and np.abs(response['hgc_y']) < 80.0:\n        area = response['area_atdiskcenter']\n        response_index = i"
      ]
    },
    {
      "cell_type": "markdown",
      "metadata": {},
      "source": [
        "Now let's get the boundary of the coronal hole\n\n"
      ]
    },
    {
      "cell_type": "code",
      "execution_count": null,
      "metadata": {
        "collapsed": false
      },
      "outputs": [],
      "source": [
        "ch = responses[response_index]\np1 = ch[\"hpc_boundcc\"][9:-2]\np2 = p1.split(',')\np3 = [v.split(\" \") for v in p2]\nch_date = parse_time(ch['event_starttime'])"
      ]
    },
    {
      "cell_type": "markdown",
      "metadata": {},
      "source": [
        "The coronal hole was detected at a certain time.  To plot it on a map, we\nneed to rotate it to the map observation time.\n\n"
      ]
    },
    {
      "cell_type": "code",
      "execution_count": null,
      "metadata": {
        "collapsed": false
      },
      "outputs": [],
      "source": [
        "ch_boundary = SkyCoord(\n    [(float(v[0]), float(v[1])) * u.arcsec for v in p3],\n    obstime=ch_date,\n    frame=frames.Helioprojective)\nrotated_ch_boundary = solar_rotate_coordinate(ch_boundary, aia_map.date)"
      ]
    },
    {
      "cell_type": "markdown",
      "metadata": {},
      "source": [
        "Now let's plot the rotated coronal hole boundary on the AIA map, and fill\nit with some matplotlib hatching.\n\n"
      ]
    },
    {
      "cell_type": "code",
      "execution_count": null,
      "metadata": {
        "collapsed": false
      },
      "outputs": [],
      "source": [
        "fig = plt.figure()\nax = plt.subplot(projection=aia_map)\naia_map.plot(axes=ax)\nax.plot_coord(rotated_ch_boundary, color='c')\nax.set_title('{:s}\\n{:s}'.format(aia_map.name, ch['frm_specificid']))\nplt.colorbar()\nplt.show()"
      ]
    }
  ],
  "metadata": {
    "kernelspec": {
      "display_name": "Python 3",
      "language": "python",
      "name": "python3"
    },
    "language_info": {
      "codemirror_mode": {
        "name": "ipython",
        "version": 3
      },
      "file_extension": ".py",
      "mimetype": "text/x-python",
      "name": "python",
      "nbconvert_exporter": "python",
      "pygments_lexer": "ipython3",
      "version": "3.6.2"
    }
  },
  "nbformat": 4,
  "nbformat_minor": 0
}