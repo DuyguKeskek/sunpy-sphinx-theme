{
  "cells": [
    {
      "cell_type": "code",
      "execution_count": null,
      "metadata": {
        "collapsed": false
      },
      "outputs": [],
      "source": [
        "%matplotlib inline"
      ]
    },
    {
      "cell_type": "markdown",
      "metadata": {},
      "source": [
        "\n# Simple Differential Rotation\n\n\nThe Sun is known to rotate differentially, meaning that the rotation rate\nnear the poles (rotation period of approximately 35 days) is not the same as\nthe rotation rate near the equator (rotation period of approximately 25 days).\nThis is possible because the Sun is not a solid body. Though it is still poorly\nunderstood, it is fairly well measured and must be taken into account\nwhen comparing observations of features on the Sun over time.\nA good review can be found in Beck 1999 Solar Physics 191, 47\u201370.\nThis example illustrates solar differential rotation.\n\n"
      ]
    },
    {
      "cell_type": "markdown",
      "metadata": {},
      "source": [
        "Start by importing the necessary modules.\n\n"
      ]
    },
    {
      "cell_type": "code",
      "execution_count": null,
      "metadata": {
        "collapsed": false
      },
      "outputs": [],
      "source": [
        "from __future__ import print_function, division\n\nfrom datetime import timedelta\n\nimport numpy as np\nimport matplotlib.pyplot as plt\n\nimport astropy.units as u\nfrom astropy.coordinates import SkyCoord\n\nimport sunpy.map\nimport sunpy.data.sample\nfrom sunpy.physics.differential_rotation import diff_rot, solar_rotate_coordinate"
      ]
    },
    {
      "cell_type": "markdown",
      "metadata": {},
      "source": [
        "Next lets explore solar differential rotation by replicating Figure 1\nin Beck 1999\n\n"
      ]
    },
    {
      "cell_type": "code",
      "execution_count": null,
      "metadata": {
        "collapsed": false
      },
      "outputs": [],
      "source": [
        "latitudes = u.Quantity(np.arange(0, 90, 1), 'deg')\ndt = 1 * u.day\nrotation_rate = [diff_rot(dt, this_lat) / dt for this_lat in latitudes]\nrotation_period = [360 * u.deg / this_rate for this_rate in rotation_rate]\n\nfig = plt.figure()\nplt.plot(np.sin(latitudes), [this_period.value for this_period in rotation_period])\nplt.ylim(38, 24)\nplt.ylabel('Rotation Period [{0}]'.format(rotation_period[0].unit))\nplt.xlabel('Sin(Latitude)')\nplt.title('Solar Differential Rotation Rate')"
      ]
    },
    {
      "cell_type": "markdown",
      "metadata": {},
      "source": [
        "Next let's show how to this looks like on the Sun.\nLoad in an AIA map:\n\n"
      ]
    },
    {
      "cell_type": "code",
      "execution_count": null,
      "metadata": {
        "collapsed": false
      },
      "outputs": [],
      "source": [
        "aia_map = sunpy.map.Map(sunpy.data.sample.AIA_171_IMAGE)"
      ]
    },
    {
      "cell_type": "markdown",
      "metadata": {},
      "source": [
        "Let's define our starting coordinates\n\n"
      ]
    },
    {
      "cell_type": "code",
      "execution_count": null,
      "metadata": {
        "collapsed": false
      },
      "outputs": [],
      "source": [
        "hpc_y = u.Quantity(np.arange(-700, 800, 100), u.arcsec)\nhpc_x = np.zeros_like(hpc_y)"
      ]
    },
    {
      "cell_type": "markdown",
      "metadata": {},
      "source": [
        "Let's define how many days in the future we want to rotate to\n\n"
      ]
    },
    {
      "cell_type": "code",
      "execution_count": null,
      "metadata": {
        "collapsed": false
      },
      "outputs": [],
      "source": [
        "dt = timedelta(days=4)\nfuture_date = aia_map.date + dt"
      ]
    },
    {
      "cell_type": "markdown",
      "metadata": {},
      "source": [
        "Now let's plot the original and rotated positions on the AIA map.\n\n"
      ]
    },
    {
      "cell_type": "code",
      "execution_count": null,
      "metadata": {
        "collapsed": false
      },
      "outputs": [],
      "source": [
        "fig = plt.figure()\nax = plt.subplot(projection=aia_map)\naia_map.plot()\nax.set_title('The effect of {0} days of differential rotation'.format(dt.days))\naia_map.draw_grid()\n\nfor this_hpc_x, this_hpc_y in zip(hpc_x, hpc_y):\n    start_coord = SkyCoord(this_hpc_x, this_hpc_y, frame=aia_map.coordinate_frame)\n    rotated_coord = solar_rotate_coordinate(start_coord, future_date)\n    coord = SkyCoord([start_coord.Tx, rotated_coord.Tx],\n                     [start_coord.Ty, rotated_coord.Ty],\n                     frame=aia_map.coordinate_frame)\n    ax.plot_coord(coord, 'o-')\n\nplt.ylim(0, aia_map.data.shape[1])\nplt.xlim(0, aia_map.data.shape[0])\nplt.show()"
      ]
    }
  ],
  "metadata": {
    "kernelspec": {
      "display_name": "Python 3",
      "language": "python",
      "name": "python3"
    },
    "language_info": {
      "codemirror_mode": {
        "name": "ipython",
        "version": 3
      },
      "file_extension": ".py",
      "mimetype": "text/x-python",
      "name": "python",
      "nbconvert_exporter": "python",
      "pygments_lexer": "ipython3",
      "version": "3.6.2"
    }
  },
  "nbformat": 4,
  "nbformat_minor": 0
}