{
  "cells": [
    {
      "cell_type": "code",
      "execution_count": null,
      "metadata": {
        "collapsed": false
      },
      "outputs": [],
      "source": [
        "%matplotlib inline"
      ]
    },
    {
      "cell_type": "markdown",
      "metadata": {},
      "source": [
        "\n# The TimeSeriesMetaData Class\n\n\nThis is an early run-through of the basic functionality of the SunPy\nTimeSeriesMetaData class.\nThis is intended primarily to demonstrate the current interface for discussion\nof the final implementation. Much of the code will be changes as the class is\ndeveloped.\n\n"
      ]
    },
    {
      "cell_type": "code",
      "execution_count": null,
      "metadata": {
        "collapsed": false
      },
      "outputs": [],
      "source": [
        "from __future__ import print_function, division\n\nimport astropy.units as u\n\nimport sunpy.data.sample\nimport sunpy.timeseries\nfrom sunpy.net import Fido, attrs as a\nfrom sunpy.time import TimeRange, parse_time"
      ]
    },
    {
      "cell_type": "markdown",
      "metadata": {},
      "source": [
        "Search for Data\n\n"
      ]
    },
    {
      "cell_type": "code",
      "execution_count": null,
      "metadata": {
        "collapsed": false
      },
      "outputs": [],
      "source": [
        "goes_res = Fido.search(a.Time(\"2010-11-02\", \"2010-11-07\"), a.Instrument('goes'))\ngoes_res\n\nnorh_res = Fido.search(a.Time(\"2010-11-02\", \"2010-11-07\"), a.Instrument('norh'),\n                       a.Wavelength(17 * u.GHz))\nnorh_res"
      ]
    },
    {
      "cell_type": "markdown",
      "metadata": {},
      "source": [
        "Download Data\n\n"
      ]
    },
    {
      "cell_type": "code",
      "execution_count": null,
      "metadata": {
        "collapsed": false
      },
      "outputs": [],
      "source": [
        "goes_files = Fido.fetch(goes_res)\nnorh_files = Fido.fetch(norh_res)"
      ]
    },
    {
      "cell_type": "markdown",
      "metadata": {},
      "source": [
        "Make Timeseries\n\n"
      ]
    },
    {
      "cell_type": "code",
      "execution_count": null,
      "metadata": {
        "collapsed": false
      },
      "outputs": [],
      "source": [
        "goes_ts = sunpy.timeseries.TimeSeries(goes_files, source='XRS', concatenate=True)\nnorh_ts = sunpy.timeseries.TimeSeries(norh_files, source='NoRH', concatenate=True)\n\n\n# Combining\nlarge_ts = goes_ts.concatenate(norh_ts)\n\n# ToDo: Fix: plot doesn't work, it's of type goes TS and so it doesn't plot\n# non-goes data. Should concanate default to GenericTimeSeries???"
      ]
    },
    {
      "cell_type": "markdown",
      "metadata": {},
      "source": [
        "The metadata can be easily viewed:\n\n"
      ]
    },
    {
      "cell_type": "code",
      "execution_count": null,
      "metadata": {
        "collapsed": false
      },
      "outputs": [],
      "source": [
        "large_ts.meta"
      ]
    },
    {
      "cell_type": "markdown",
      "metadata": {},
      "source": [
        "You can reduce the depth of the view:a\n\n"
      ]
    },
    {
      "cell_type": "code",
      "execution_count": null,
      "metadata": {
        "collapsed": false
      },
      "outputs": [],
      "source": [
        "print(large_ts.meta.to_string(2))"
      ]
    },
    {
      "cell_type": "markdown",
      "metadata": {},
      "source": [
        "The TimeSeriesMetaData class stores all the individual file metadata MetaDict\nobjects as 3-tuple entries in it's internal list with the TimeRange, list of\ncolumn names and metadictionary. This list is stores in order of ascending\nTR.start.\nAccess of the the list is done using the metadata property:\n\n"
      ]
    },
    {
      "cell_type": "code",
      "execution_count": null,
      "metadata": {
        "collapsed": false
      },
      "outputs": [],
      "source": [
        "large_ts.meta.metadata"
      ]
    },
    {
      "cell_type": "markdown",
      "metadata": {},
      "source": [
        "The TimeSeriesMetaData class has a number of other properties, including the\ntimerange property that returns a TimeRange for the entire metadata:\n\n"
      ]
    },
    {
      "cell_type": "code",
      "execution_count": null,
      "metadata": {
        "collapsed": false
      },
      "outputs": [],
      "source": [
        "large_ts.meta.time_range\n# Further properties can be used to get lists of details, such as:\n# lists of the values:\nlarge_ts.meta.timeranges  # List of the time ranges\nlarge_ts.meta.columns  # List of the column names\nlarge_ts.meta.metas  # List of the meta dictionaries"
      ]
    },
    {
      "cell_type": "markdown",
      "metadata": {},
      "source": [
        "When you truncate the TimeSeries, the metadata is truncated too:\n\n"
      ]
    },
    {
      "cell_type": "code",
      "execution_count": null,
      "metadata": {
        "collapsed": false
      },
      "outputs": [],
      "source": [
        "large_trunc_ts = large_ts.truncate(TimeRange('2010-11-03 13:59:57.468999',\n                                             '2010-11-05 13:59:56.091999'))\nprint(large_trunc_ts.meta.to_string(2))"
      ]
    },
    {
      "cell_type": "markdown",
      "metadata": {},
      "source": [
        "Finding metadata can be achieved using the find method and applying filters for\ntime and/or colname. This returns another TimeSeriesMetaData object:\n\n"
      ]
    },
    {
      "cell_type": "code",
      "execution_count": null,
      "metadata": {
        "collapsed": false
      },
      "outputs": [],
      "source": [
        "large_trunc_ts.meta.find(time=parse_time('2010-11-04 09:01:16'))\nlarge_trunc_ts.meta.find(time='2010-11-04 09:01:16', colname='xrsb')\n\n# You can get the time of a row a from the TimeSeries object's index:\nlarge_trunc_ts.meta.find(time=large_trunc_ts.index[10])\n\n# Note: with no filters you get a duplicate of the original TimeSeriesMetaData\n# object."
      ]
    },
    {
      "cell_type": "markdown",
      "metadata": {},
      "source": [
        "There is also a get method:\n\n"
      ]
    },
    {
      "cell_type": "code",
      "execution_count": null,
      "metadata": {
        "collapsed": false
      },
      "outputs": [],
      "source": [
        "large_trunc_ts.meta.get('telescop')\n\n# Again, filters can be used:\nlarge_trunc_ts.meta.get('telescop', time='2010-11-04 09:01:16', colname='xrsb')\n\n# And if we just want the values, the values method returns just a list:\nlarge_trunc_ts.meta.get('telescop').values()"
      ]
    },
    {
      "cell_type": "markdown",
      "metadata": {},
      "source": [
        "You can update values similar to dictionaries, though all of the contained\nMetaDict objects will be updated that match your filter criteria:\n\n"
      ]
    },
    {
      "cell_type": "code",
      "execution_count": null,
      "metadata": {
        "collapsed": false
      },
      "outputs": [],
      "source": [
        "large_trunc_ts.meta.update({'new_key_1': 'added to all.'})\nlarge_trunc_ts.meta.update({'new_key_2': 'added to some.'}, colname='xrsa')\nprint(large_trunc_ts.meta.to_string(2))\n\n# but you can't overwrite previous entries without setting the overwrite kwarg,\n# this is to protect the integrity of the metadata:\n\nlarge_trunc_ts.meta.update({'new_key_1': 'changed'}, overwrite=True)\nprint(large_trunc_ts.meta.to_string(2))"
      ]
    }
  ],
  "metadata": {
    "kernelspec": {
      "display_name": "Python 3",
      "language": "python",
      "name": "python3"
    },
    "language_info": {
      "codemirror_mode": {
        "name": "ipython",
        "version": 3
      },
      "file_extension": ".py",
      "mimetype": "text/x-python",
      "name": "python",
      "nbconvert_exporter": "python",
      "pygments_lexer": "ipython3",
      "version": "3.6.2"
    }
  },
  "nbformat": 4,
  "nbformat_minor": 0
}